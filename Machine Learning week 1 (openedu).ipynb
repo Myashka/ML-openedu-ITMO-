{
 "cells": [
  {
   "cell_type": "markdown",
   "id": "clear-payroll",
   "metadata": {},
   "source": [
    "# Machine Learning course (openedu)"
   ]
  },
  {
   "cell_type": "markdown",
   "id": "persistent-tennis",
   "metadata": {},
   "source": [
    "Week 1"
   ]
  },
  {
   "cell_type": "code",
   "execution_count": 145,
   "id": "transparent-proxy",
   "metadata": {},
   "outputs": [],
   "source": [
    "import numpy as np\n",
    "from pandas import Series, DataFrame\n",
    "import pandas as pd\n",
    "%matplotlib inline\n",
    "import matplotlib.pyplot as plt\n",
    "from sklearn import preprocessing"
   ]
  },
  {
   "cell_type": "markdown",
   "id": "north-canvas",
   "metadata": {},
   "source": [
    "##  Exploring data and get need values"
   ]
  },
  {
   "cell_type": "code",
   "execution_count": 146,
   "id": "mounted-latter",
   "metadata": {
    "scrolled": true
   },
   "outputs": [],
   "source": [
    "#читаем файл\n",
    "all_stars = pd.read_csv('stars.csv')\n",
    "\n",
    "#берем 2 нужных DF\n",
    "stars = all_stars[(all_stars.TARGET == 0) & (all_stars.MIP <= 104.5859375) & (all_stars.MIP >= 104.1953125) |\n",
    "(all_stars.TARGET == 1) & (all_stars.MIP <= 115.3515625) & (all_stars.MIP >= 101.9609375)]\n",
    "#сшиваем их\n",
    "stars= pd.concat([need_stars1, need_stars2], ignore_index=True)\n",
    "#сортируем\n",
    "stars = stars.sort_values('MIP', ascending=True)"
   ]
  },
  {
   "cell_type": "markdown",
   "id": "suffering-tower",
   "metadata": {},
   "source": [
    "## Get MIP statistics "
   ]
  },
  {
   "cell_type": "code",
   "execution_count": 147,
   "id": "blind-project",
   "metadata": {},
   "outputs": [
    {
     "data": {
      "text/plain": [
       "count    203.000000\n",
       "mean     106.454703\n",
       "std        3.431455\n",
       "min      101.960938\n",
       "25%      104.316406\n",
       "50%      104.531250\n",
       "75%      108.207031\n",
       "max      115.351562\n",
       "Name: MIP, dtype: float64"
      ]
     },
     "execution_count": 147,
     "metadata": {},
     "output_type": "execute_result"
    }
   ],
   "source": [
    "#получение информации о DF по столбцу MIP\n",
    "stars.describe()['MIP']"
   ]
  },
  {
   "cell_type": "markdown",
   "id": "caring-stanford",
   "metadata": {},
   "source": [
    "## Lin normalize "
   ]
  },
  {
   "cell_type": "code",
   "execution_count": 148,
   "id": "sticky-string",
   "metadata": {},
   "outputs": [],
   "source": [
    "#Удаление столбца target\n",
    "stars = stars.drop(['TARGET'], axis = 1)\n",
    "#Линейная нормировка\n",
    "scaler = preprocessing.MinMaxScaler()\n",
    "names = stars.columns\n",
    "d = scaler.fit_transform(stars)\n",
    "#нормированный DF\n",
    "scaled_stars = pd.DataFrame(d, columns=names)"
   ]
  },
  {
   "cell_type": "code",
   "execution_count": 149,
   "id": "competitive-visit",
   "metadata": {},
   "outputs": [
    {
     "data": {
      "text/plain": [
       "count    203.000000\n",
       "mean       0.335590\n",
       "std        0.256258\n",
       "min        0.000000\n",
       "25%        0.175904\n",
       "50%        0.191949\n",
       "75%        0.466453\n",
       "max        1.000000\n",
       "Name: MIP, dtype: float64"
      ]
     },
     "execution_count": 149,
     "metadata": {},
     "output_type": "execute_result"
    }
   ],
   "source": [
    "#Описание нормированного DF\n",
    "scaled_stars.describe()['MIP']"
   ]
  },
  {
   "cell_type": "markdown",
   "id": "interior-result",
   "metadata": {},
   "source": [
    "## Distance function"
   ]
  },
  {
   "cell_type": "code",
   "execution_count": 150,
   "id": "challenging-upgrade",
   "metadata": {},
   "outputs": [
    {
     "name": "stdout",
     "output_type": "stream",
     "text": [
      "0.9109222479727225\n"
     ]
    }
   ],
   "source": [
    "STAR = np.array([0.157, 0.311, 0.676, 0.586, 0.307, 0.848, 0.673, 0.64])\n",
    "#функция расчета Евклидовой метрики для массивов\n",
    "def distance(v1, v2):\n",
    "    return np.sqrt(np.sum((v1 - v2) ** 2, axis=1))   \n",
    "\n",
    "#получение массивов растояний\n",
    "distance = distance(STAR, scaled_stars.values)\n",
    "print(min(distance))"
   ]
  },
  {
   "cell_type": "code",
   "execution_count": 153,
   "id": "crude-category",
   "metadata": {
    "scrolled": true
   },
   "outputs": [
    {
     "name": "stdout",
     "output_type": "stream",
     "text": [
      "[ 15.09236103  31.5701635  -18.31412263 -10.90203336   0.95085657\n",
      "   0.5817857   -1.57639826   0.19030584   0.82419667   0.54194379]\n"
     ]
    },
    {
     "data": {
      "text/plain": [
       "[<matplotlib.lines.Line2D at 0x206df07b4f0>]"
      ]
     },
     "execution_count": 153,
     "metadata": {},
     "output_type": "execute_result"
    },
    {
     "data": {
      "image/png": "[encoded data removed]",
      "text/plain": [
       "<Figure size 432x288 with 1 Axes>"
      ]
     },
     "metadata": {
      "needs_background": "light"
     },
     "output_type": "display_data"
    }
   ],
   "source": [
    "df = pd.read_csv('МГК.csv')\n",
    "data = df.values\n",
    "\n",
    "#центрируем матрицу\n",
    "Y = data - data.mean(axis=0, keepdims=True)\n",
    "\n",
    "#ковариционная матрица\n",
    "covmat = np.dot(np.transpose(Y), Y)/60\n",
    "\n",
    "#массивы собственных чисел и векторов\n",
    "_, f = np.linalg.eig(covmat)\n",
    "\n",
    "#первая столбец матрицы, а именно первый вектор весов\n",
    "f1 = f[:,0]\n",
    "\n",
    "#матрица новых координат 60-и объектов\n",
    "preZ = np.dot(Y,f)\n",
    "\n",
    "#координаты 1го объекта относительно всех главных компонент\n",
    "print (preZ[0])\n",
    "\n",
    "#Автоматическая функция МГК\n",
    "from sklearn.decomposition import PCA\n",
    "# Допустим, компоненты = 2\n",
    "\n",
    "pca = PCA(n_components = 2)\n",
    "\n",
    "pca.fit(data)\n",
    "x_pca = pca.transform(data)\n",
    "#print(x_pca)\n",
    "\n",
    "#plt.figure(figsize =(6, 6))\n",
    "#plt.scatter(x_pca[:, 0], x_pca[:, 1],  cmap ='plasma')  \n",
    "# маркировка осей X и Y\n",
    "#plt.xlabel('First Principal Component')\n",
    "#plt.ylabel('Second Principal Component')\n",
    "\n",
    "#создание массива объясненных дисперсий\n",
    "dispArray = []\n",
    "for i in range(1, len(_)+1):\n",
    "    disp = sum(_[0:i])/sum(_[:])\n",
    "    dispArray = np.append(dispArray, disp)\n",
    "\n",
    "plt.title('Выбор количества главных компонент')  \n",
    "plt.xlabel('Количество ГК')\n",
    "plt.ylabel('Доля объясненной дисперсии')\n",
    "plt.xticks(np.arange(0,11, step = 1))\n",
    "plt.yticks(np.arange(0, 10, step = 0.1))\n",
    "plt.plot(dispArray, ls = '--')\n"
   ]
  },
  {
   "cell_type": "code",
   "execution_count": 154,
   "id": "signal-timothy",
   "metadata": {},
   "outputs": [
    {
     "data": {
      "text/plain": [
       "<matplotlib.image.AxesImage at 0x206df0bbb20>"
      ]
     },
     "execution_count": 154,
     "metadata": {},
     "output_type": "execute_result"
    },
    {
     "data": {
      "image/png": "[encoded data removed]",
      "text/plain": [
       "<Figure size 432x288 with 1 Axes>"
      ]
     },
     "metadata": {
      "needs_background": "light"
     },
     "output_type": "display_data"
    }
   ],
   "source": [
    "#Создание массивов Numpy на основе матриц счётов и весов\n",
    "scores = np.genfromtxt('X_reduced.csv', delimiter=';')\n",
    "loadings = np.genfromtxt('X_predictors.csv', delimiter=';')\n",
    "#Найдем матрицу восстановленных данных как произведение матрицы счётов на транспонированную матрицу весов.\n",
    "values = np.dot(scores,loadings.T)\n",
    "values = np.dot(scores,loadings.T)\n",
    "#Создание изображения\n",
    "plt.imshow(values, cmap='Greys_r')"
   ]
  },
  {
   "cell_type": "code",
   "execution_count": null,
   "id": "sophisticated-aruba",
   "metadata": {},
   "outputs": [],
   "source": []
  }
 ],
 "metadata": {
  "kernelspec": {
   "display_name": "Python 3",
   "language": "python",
   "name": "python3"
  },
  "language_info": {
   "codemirror_mode": {
    "name": "ipython",
    "version": 3
   },
   "file_extension": ".py",
   "mimetype": "text/x-python",
   "name": "python",
   "nbconvert_exporter": "python",
   "pygments_lexer": "ipython3",
   "version": "3.8.5"
  }
 },
 "nbformat": 4,
 "nbformat_minor": 5
}
